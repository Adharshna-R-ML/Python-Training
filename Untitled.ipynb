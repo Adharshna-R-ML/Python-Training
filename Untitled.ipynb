{
 "cells": [
  {
   "cell_type": "code",
   "execution_count": 7,
   "id": "e463321d-43ed-442a-a083-bd6983174111",
   "metadata": {},
   "outputs": [
    {
     "name": "stdout",
     "output_type": "stream",
     "text": [
      "{4: 5, 6: 7, 8: 9}\n"
     ]
    }
   ],
   "source": [
    "lb=3\n",
    "ub=10\n",
    "l1=[]\n",
    "l2=[]\n",
    "for i in range(lb,ub):\n",
    "    if i%2==0:\n",
    "        l1.append(i)\n",
    "    else:\n",
    "        l2.append(i)\n",
    "\n",
    "d=dict.fromkeys(l1)\n",
    "for i in l1:\n",
    "    if (i+1) in l2:\n",
    "        d[i]=i+1\n",
    "    \n",
    "print(d)\n",
    "        \n",
    "    "
   ]
  },
  {
   "cell_type": "code",
   "execution_count": 11,
   "id": "3c3e8510-fd29-444a-bddb-0db59be8daf0",
   "metadata": {},
   "outputs": [
    {
     "name": "stdout",
     "output_type": "stream",
     "text": [
      "5\n"
     ]
    }
   ],
   "source": [
    "arr=[[1,2,3],[4,5,6],[7,8,9]]\n",
    "print(arr[1][1])"
   ]
  },
  {
   "cell_type": "code",
   "execution_count": 14,
   "id": "f54054f0-9fcc-4db5-92c0-e6b22eced2aa",
   "metadata": {},
   "outputs": [],
   "source": [
    "f=open(\"file1.txt\",'x')"
   ]
  },
  {
   "cell_type": "code",
   "execution_count": 15,
   "id": "63ae6197-7554-4d67-9b51-8d115dddf932",
   "metadata": {},
   "outputs": [],
   "source": [
    "f=open(\"file.txt\",'r')"
   ]
  },
  {
   "cell_type": "code",
   "execution_count": 18,
   "id": "5cd2e1eb-5a94-4a9d-af01-bc429ee32371",
   "metadata": {},
   "outputs": [
    {
     "name": "stdout",
     "output_type": "stream",
     "text": [
      "hello hi how are you\n"
     ]
    }
   ],
   "source": [
    "f=open(\"file.txt\",'w')\n",
    "f.write(\"hello hi how are you\")\n",
    "f.close()\n",
    "f=open(\"file.txt\",'r')\n",
    "print(f.read())"
   ]
  },
  {
   "cell_type": "code",
   "execution_count": 27,
   "id": "2c3f0cfe-f038-4dc2-b1d2-f1204f4960c1",
   "metadata": {},
   "outputs": [
    {
     "name": "stdout",
     "output_type": "stream",
     "text": [
      "hello hi how are youI am AdharshnaMaplelabsI am AdharshnaMaplelabsI am AdharshnaMaplelabsI am AdharshnaMaplelabsI am AdharshnaMaplelabsI am AdharshnaMaplelabsI am AdharshnaMaplelabsI am AdharshnaMaplelabsI am AdharshnaMaplelabs\n"
     ]
    }
   ],
   "source": [
    "f=open(\"file.txt\",'a')\n",
    "f.write(\"I am Adharshna\")\n",
    "f.write(\"Maplelabs\")\n",
    "f.close()\n",
    "f=open(\"file.txt\",'r')\n",
    "print(f.readline())"
   ]
  },
  {
   "cell_type": "code",
   "execution_count": 29,
   "id": "574f9529-1866-4723-8433-f4bff593f046",
   "metadata": {},
   "outputs": [
    {
     "name": "stdout",
     "output_type": "stream",
     "text": [
      "2024-08-25 10:15:23 INFO Starting the application\n",
      "2024-08-25 10:16:45 WARN Low memory warning\n",
      "2024-08-25 10:17:10 ERROR Unable to connect to database\n",
      "2024-08-25 10:20:00 INFO Application shutdown\n",
      "2024-08-25 10:21:30 INFO Backup completed successfully\n"
     ]
    }
   ],
   "source": [
    "f=open(\"file.txt\",'r')\n",
    "print(f.read())"
   ]
  },
  {
   "cell_type": "code",
   "execution_count": 34,
   "id": "76e94c6b-8f5f-45c2-9b03-ceb50953b9fb",
   "metadata": {},
   "outputs": [
    {
     "name": "stdout",
     "output_type": "stream",
     "text": [
      "2024-08-25 10:15:23 INFO Starting the application\n",
      "\n"
     ]
    }
   ],
   "source": [
    "f=open(\"file.txt\",'r')\n",
    "print(f.readline())"
   ]
  },
  {
   "cell_type": "code",
   "execution_count": 47,
   "id": "2640a628-fed4-4865-a8fc-92d6da3fbb67",
   "metadata": {},
   "outputs": [
    {
     "name": "stdout",
     "output_type": "stream",
     "text": [
      "20\n"
     ]
    }
   ],
   "source": [
    "f=open(\"file.txt\",'r')\n",
    "print(f.readline(2))"
   ]
  },
  {
   "cell_type": "code",
   "execution_count": 35,
   "id": "7772005b-47a6-40db-bb03-676b0c8c73e1",
   "metadata": {},
   "outputs": [
    {
     "name": "stdout",
     "output_type": "stream",
     "text": [
      "2024-08-25 10:15:23 INFO Starting the application\n",
      "\n",
      "2024-08-25 10:16:45 WARN Low memory warning\n",
      "\n",
      "2024-08-25 10:17:10 ERROR Unable to connect to database\n",
      "\n",
      "2024-08-25 10:20:00 INFO Application shutdown\n",
      "\n",
      "2024-08-25 10:21:30 INFO Backup completed successfully\n"
     ]
    }
   ],
   "source": [
    "f=open(\"file.txt\",'r')\n",
    "for x in f:\n",
    "  print(x)"
   ]
  },
  {
   "cell_type": "code",
   "execution_count": 42,
   "id": "c5f26b45-6786-4c6e-81c3-0c994f2b97c3",
   "metadata": {},
   "outputs": [
    {
     "name": "stdout",
     "output_type": "stream",
     "text": [
      "\n",
      "3\n"
     ]
    }
   ],
   "source": [
    "f=open(\"file.txt\",'r')\n",
    "count=0\n",
    "for i in f:\n",
    "    f.readline()\n",
    "    count+=1\n",
    "print(f.read())\n",
    "print(count)"
   ]
  },
  {
   "cell_type": "code",
   "execution_count": 52,
   "id": "cde25416-2df1-4aef-b521-9fdf5398f839",
   "metadata": {},
   "outputs": [
    {
     "name": "stdout",
     "output_type": "stream",
     "text": [
      "50\n",
      "44\n",
      "56\n",
      "46\n",
      "54\n",
      "5\n"
     ]
    }
   ],
   "source": [
    "f=open(\"file.txt\",'r')\n",
    "f1=f.readlines()\n",
    "for i in f1:\n",
    "    print(len(i))\n",
    "    \n",
    "print(len(f1))"
   ]
  },
  {
   "cell_type": "code",
   "execution_count": 45,
   "id": "5df35c2f-5cab-4074-8883-f90eee7db3b4",
   "metadata": {},
   "outputs": [
    {
     "name": "stdout",
     "output_type": "stream",
     "text": [
      "2024-08-25 10:15:23 INFO Starting the application\n",
      "\n",
      "2024-08-25 10:16:45 WARN Low memory warning\n",
      "\n",
      "2024-08-25 10:17:10 ERROR Unable to connect to database\n",
      "\n",
      "2024-08-25 10:20:00 INFO Application shutdown\n",
      "\n",
      "2024-08-25 10:21:30 INFO Backup completed successfully\n"
     ]
    }
   ],
   "source": [
    "for i in f1:\n",
    "    print(i)"
   ]
  },
  {
   "cell_type": "code",
   "execution_count": 49,
   "id": "d8c63f57-b226-4c87-83a2-41dfcbd792ec",
   "metadata": {},
   "outputs": [
    {
     "name": "stdout",
     "output_type": "stream",
     "text": [
      "45\n"
     ]
    }
   ],
   "source": [
    "c=0\n",
    "for i in f1:\n",
    "    if i!=\" \":\n",
    "        c+=1\n",
    "print(c)"
   ]
  },
  {
   "cell_type": "code",
   "execution_count": 62,
   "id": "1a89d7fa-9469-421e-9a0f-26aaf892c318",
   "metadata": {},
   "outputs": [
    {
     "name": "stdout",
     "output_type": "stream",
     "text": [
      "6\n",
      "6\n",
      "8\n",
      "5\n",
      "6\n"
     ]
    }
   ],
   "source": [
    "f=open(\"file.txt\",'r')\n",
    "f1=f.readlines()\n",
    "for i in f1:\n",
    "    print(len(i.split()))\n",
    "    "
   ]
  },
  {
   "cell_type": "code",
   "execution_count": 71,
   "id": "8efe61d4-c9d0-43fd-a75e-4b8c7bb178cc",
   "metadata": {},
   "outputs": [
    {
     "name": "stdout",
     "output_type": "stream",
     "text": [
      "10:15:23\n",
      "10:16:45\n",
      "10:17:10\n",
      "10:20:00\n",
      "10:21:30\n"
     ]
    }
   ],
   "source": [
    "f=open(\"file.txt\",'r')\n",
    "f1=f.readlines()\n",
    "\n",
    "for i in f1:\n",
    "    print(i.split()[1])\n"
   ]
  },
  {
   "cell_type": "code",
   "execution_count": 77,
   "id": "1527a12a-2269-4560-85ce-f1eb55fb8896",
   "metadata": {},
   "outputs": [
    {
     "name": "stdin",
     "output_type": "stream",
     "text": [
      " 10:15:23\n"
     ]
    },
    {
     "name": "stdout",
     "output_type": "stream",
     "text": [
      "INFO\n"
     ]
    }
   ],
   "source": [
    "f=open(\"file.txt\",'r')\n",
    "f1=f.readlines()\n",
    "str=input()\n",
    "for i in f1:\n",
    "    if i.split()[1]==str:\n",
    "        print(i.split()[2])"
   ]
  },
  {
   "cell_type": "code",
   "execution_count": 79,
   "id": "c8d0eb15-c6e9-4fa4-891d-9f3ec79b1c02",
   "metadata": {},
   "outputs": [
    {
     "name": "stdin",
     "output_type": "stream",
     "text": [
      " 10:15:23\n"
     ]
    },
    {
     "name": "stdout",
     "output_type": "stream",
     "text": [
      "INFO Starting the application\n"
     ]
    }
   ],
   "source": [
    "d={}\n",
    "\n",
    "f=open(\"file.txt\",'r')\n",
    "f1=f.readlines()\n",
    "for i in f1:\n",
    "    a=i.split()\n",
    "    d[a[1]]=\" \".join(a[2:])\n",
    "a=input()\n",
    "print(d[a])\n",
    "\n",
    "    "
   ]
  },
  {
   "cell_type": "code",
   "execution_count": 89,
   "id": "202f13e5-9393-4c7d-adcb-13e78f1b4aed",
   "metadata": {},
   "outputs": [
    {
     "name": "stdin",
     "output_type": "stream",
     "text": [
      " INFO\n"
     ]
    }
   ],
   "source": [
    "f=open(\"file.txt\",'r')\n",
    "f1=f.readlines()\n",
    "key=input()\n",
    "l1=[]\n",
    "for i in f1:\n",
    "    l1.append(i.split())\n",
    "    if key in l1:\n",
    "        print(l1)\n",
    "    \n"
   ]
  },
  {
   "cell_type": "code",
   "execution_count": 97,
   "id": "cdd81dd9-f91b-43d3-9936-fd4423ca2f3f",
   "metadata": {},
   "outputs": [
    {
     "name": "stdout",
     "output_type": "stream",
     "text": [
      "{'INFO': ['2024-08-25 10:15:23 INFO Starting the application', '2024-08-25 10:20:00 INFO Application shutdown', '2024-08-25 10:21:30 INFO Backup completed successfully'], 'WARN': ['2024-08-25 10:16:45 WARN Low memory warning'], 'ERROR': ['2024-08-25 10:17:10 ERROR Unable to connect to database']}\n"
     ]
    }
   ],
   "source": [
    "f=open(\"file.txt\",'r')\n",
    "f1=f.readlines()\n",
    "dict = {\n",
    "    'INFO': [],\n",
    "    'WARN': [],\n",
    "    'ERROR': []\n",
    "}\n",
    "for line in f1:\n",
    "    line = line.strip()\n",
    "    if line:\n",
    "        word = line.split(' ', 2)  \n",
    "        if len(word) >= 3:\n",
    "            j = word[2].split(' ', 1)[0]\n",
    "            if j in dict:\n",
    "                dict[j].append(line)\n",
    "print(dict)"
   ]
  },
  {
   "cell_type": "code",
   "execution_count": null,
   "id": "69f27316-11bb-40db-ae4a-6a208de00253",
   "metadata": {},
   "outputs": [],
   "source": []
  }
 ],
 "metadata": {
  "kernelspec": {
   "display_name": "Python 3 (ipykernel)",
   "language": "python",
   "name": "python3"
  },
  "language_info": {
   "codemirror_mode": {
    "name": "ipython",
    "version": 3
   },
   "file_extension": ".py",
   "mimetype": "text/x-python",
   "name": "python",
   "nbconvert_exporter": "python",
   "pygments_lexer": "ipython3",
   "version": "3.12.3"
  }
 },
 "nbformat": 4,
 "nbformat_minor": 5
}
